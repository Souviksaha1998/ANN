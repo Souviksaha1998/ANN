{
  "nbformat": 4,
  "nbformat_minor": 0,
  "metadata": {
    "colab": {
      "name": "redwine.ipynb",
      "provenance": [],
      "collapsed_sections": []
    },
    "kernelspec": {
      "name": "python3",
      "display_name": "Python 3"
    },
    "language_info": {
      "name": "python"
    },
    "accelerator": "GPU"
  },
  "cells": [
    {
      "cell_type": "code",
      "metadata": {
        "id": "CIqqggr9dNat"
      },
      "source": [
        "import numpy as np\n",
        "import pandas as pd\n",
        "import matplotlib.pyplot as plt\n",
        "import seaborn as sns"
      ],
      "execution_count": 2,
      "outputs": []
    },
    {
      "cell_type": "code",
      "metadata": {
        "id": "IrLiSVNJeEly"
      },
      "source": [
        "df = pd.read_csv('heart.csv')"
      ],
      "execution_count": 3,
      "outputs": []
    },
    {
      "cell_type": "code",
      "metadata": {
        "colab": {
          "base_uri": "https://localhost:8080/",
          "height": 204
        },
        "id": "GHUMqTVneKS0",
        "outputId": "3622a63c-aadb-4254-a5ea-021f39814b36"
      },
      "source": [
        "df.head()"
      ],
      "execution_count": 4,
      "outputs": [
        {
          "output_type": "execute_result",
          "data": {
            "text/html": [
              "<div>\n",
              "<style scoped>\n",
              "    .dataframe tbody tr th:only-of-type {\n",
              "        vertical-align: middle;\n",
              "    }\n",
              "\n",
              "    .dataframe tbody tr th {\n",
              "        vertical-align: top;\n",
              "    }\n",
              "\n",
              "    .dataframe thead th {\n",
              "        text-align: right;\n",
              "    }\n",
              "</style>\n",
              "<table border=\"1\" class=\"dataframe\">\n",
              "  <thead>\n",
              "    <tr style=\"text-align: right;\">\n",
              "      <th></th>\n",
              "      <th>age</th>\n",
              "      <th>sex</th>\n",
              "      <th>cp</th>\n",
              "      <th>trtbps</th>\n",
              "      <th>chol</th>\n",
              "      <th>fbs</th>\n",
              "      <th>restecg</th>\n",
              "      <th>thalachh</th>\n",
              "      <th>exng</th>\n",
              "      <th>oldpeak</th>\n",
              "      <th>slp</th>\n",
              "      <th>caa</th>\n",
              "      <th>thall</th>\n",
              "      <th>output</th>\n",
              "    </tr>\n",
              "  </thead>\n",
              "  <tbody>\n",
              "    <tr>\n",
              "      <th>0</th>\n",
              "      <td>63</td>\n",
              "      <td>1</td>\n",
              "      <td>3</td>\n",
              "      <td>145</td>\n",
              "      <td>233</td>\n",
              "      <td>1</td>\n",
              "      <td>0</td>\n",
              "      <td>150</td>\n",
              "      <td>0</td>\n",
              "      <td>2.3</td>\n",
              "      <td>0</td>\n",
              "      <td>0</td>\n",
              "      <td>1</td>\n",
              "      <td>1</td>\n",
              "    </tr>\n",
              "    <tr>\n",
              "      <th>1</th>\n",
              "      <td>37</td>\n",
              "      <td>1</td>\n",
              "      <td>2</td>\n",
              "      <td>130</td>\n",
              "      <td>250</td>\n",
              "      <td>0</td>\n",
              "      <td>1</td>\n",
              "      <td>187</td>\n",
              "      <td>0</td>\n",
              "      <td>3.5</td>\n",
              "      <td>0</td>\n",
              "      <td>0</td>\n",
              "      <td>2</td>\n",
              "      <td>1</td>\n",
              "    </tr>\n",
              "    <tr>\n",
              "      <th>2</th>\n",
              "      <td>41</td>\n",
              "      <td>0</td>\n",
              "      <td>1</td>\n",
              "      <td>130</td>\n",
              "      <td>204</td>\n",
              "      <td>0</td>\n",
              "      <td>0</td>\n",
              "      <td>172</td>\n",
              "      <td>0</td>\n",
              "      <td>1.4</td>\n",
              "      <td>2</td>\n",
              "      <td>0</td>\n",
              "      <td>2</td>\n",
              "      <td>1</td>\n",
              "    </tr>\n",
              "    <tr>\n",
              "      <th>3</th>\n",
              "      <td>56</td>\n",
              "      <td>1</td>\n",
              "      <td>1</td>\n",
              "      <td>120</td>\n",
              "      <td>236</td>\n",
              "      <td>0</td>\n",
              "      <td>1</td>\n",
              "      <td>178</td>\n",
              "      <td>0</td>\n",
              "      <td>0.8</td>\n",
              "      <td>2</td>\n",
              "      <td>0</td>\n",
              "      <td>2</td>\n",
              "      <td>1</td>\n",
              "    </tr>\n",
              "    <tr>\n",
              "      <th>4</th>\n",
              "      <td>57</td>\n",
              "      <td>0</td>\n",
              "      <td>0</td>\n",
              "      <td>120</td>\n",
              "      <td>354</td>\n",
              "      <td>0</td>\n",
              "      <td>1</td>\n",
              "      <td>163</td>\n",
              "      <td>1</td>\n",
              "      <td>0.6</td>\n",
              "      <td>2</td>\n",
              "      <td>0</td>\n",
              "      <td>2</td>\n",
              "      <td>1</td>\n",
              "    </tr>\n",
              "  </tbody>\n",
              "</table>\n",
              "</div>"
            ],
            "text/plain": [
              "   age  sex  cp  trtbps  chol  fbs  ...  exng  oldpeak  slp  caa  thall  output\n",
              "0   63    1   3     145   233    1  ...     0      2.3    0    0      1       1\n",
              "1   37    1   2     130   250    0  ...     0      3.5    0    0      2       1\n",
              "2   41    0   1     130   204    0  ...     0      1.4    2    0      2       1\n",
              "3   56    1   1     120   236    0  ...     0      0.8    2    0      2       1\n",
              "4   57    0   0     120   354    0  ...     1      0.6    2    0      2       1\n",
              "\n",
              "[5 rows x 14 columns]"
            ]
          },
          "metadata": {},
          "execution_count": 4
        }
      ]
    },
    {
      "cell_type": "code",
      "metadata": {
        "colab": {
          "base_uri": "https://localhost:8080/"
        },
        "id": "OzFUqupUsEMs",
        "outputId": "4da1981e-22af-470c-8b5a-21a7ca1b36d2"
      },
      "source": [
        "df.shape"
      ],
      "execution_count": 5,
      "outputs": [
        {
          "output_type": "execute_result",
          "data": {
            "text/plain": [
              "(303, 14)"
            ]
          },
          "metadata": {},
          "execution_count": 5
        }
      ]
    },
    {
      "cell_type": "code",
      "metadata": {
        "colab": {
          "base_uri": "https://localhost:8080/"
        },
        "id": "xNFfCES_eMTG",
        "outputId": "6e43cad3-01d7-4216-ff38-4c05c8aad7ba"
      },
      "source": [
        "df.isnull().sum()"
      ],
      "execution_count": 6,
      "outputs": [
        {
          "output_type": "execute_result",
          "data": {
            "text/plain": [
              "age         0\n",
              "sex         0\n",
              "cp          0\n",
              "trtbps      0\n",
              "chol        0\n",
              "fbs         0\n",
              "restecg     0\n",
              "thalachh    0\n",
              "exng        0\n",
              "oldpeak     0\n",
              "slp         0\n",
              "caa         0\n",
              "thall       0\n",
              "output      0\n",
              "dtype: int64"
            ]
          },
          "metadata": {},
          "execution_count": 6
        }
      ]
    },
    {
      "cell_type": "code",
      "metadata": {
        "colab": {
          "base_uri": "https://localhost:8080/",
          "height": 459
        },
        "id": "n4wt3NcieaLW",
        "outputId": "f7307c17-834d-462c-d8fa-978bd4b98daa"
      },
      "source": [
        "plt.figure(figsize=(10,7))\n",
        "sns.scatterplot(x='age',y='sex',data=df,hue='output',palette='Set2')"
      ],
      "execution_count": 8,
      "outputs": [
        {
          "output_type": "execute_result",
          "data": {
            "text/plain": [
              "<matplotlib.axes._subplots.AxesSubplot at 0x7fe87f28f150>"
            ]
          },
          "metadata": {},
          "execution_count": 8
        },
        {
          "output_type": "display_data",
          "data": {
            "image/png": "[encoded data removed]",
            "text/plain": [
              "<Figure size 720x504 with 1 Axes>"
            ]
          },
          "metadata": {
            "needs_background": "light"
          }
        }
      ]
    },
    {
      "cell_type": "code",
      "metadata": {
        "colab": {
          "base_uri": "https://localhost:8080/",
          "height": 317
        },
        "id": "RnauaQ_5gtwC",
        "outputId": "61bf5461-89f3-40ff-8d24-bd1e84a14d6f"
      },
      "source": [
        "df.describe()"
      ],
      "execution_count": 11,
      "outputs": [
        {
          "output_type": "execute_result",
          "data": {
            "text/html": [
              "<div>\n",
              "<style scoped>\n",
              "    .dataframe tbody tr th:only-of-type {\n",
              "        vertical-align: middle;\n",
              "    }\n",
              "\n",
              "    .dataframe tbody tr th {\n",
              "        vertical-align: top;\n",
              "    }\n",
              "\n",
              "    .dataframe thead th {\n",
              "        text-align: right;\n",
              "    }\n",
              "</style>\n",
              "<table border=\"1\" class=\"dataframe\">\n",
              "  <thead>\n",
              "    <tr style=\"text-align: right;\">\n",
              "      <th></th>\n",
              "      <th>age</th>\n",
              "      <th>sex</th>\n",
              "      <th>cp</th>\n",
              "      <th>trtbps</th>\n",
              "      <th>chol</th>\n",
              "      <th>fbs</th>\n",
              "      <th>restecg</th>\n",
              "      <th>thalachh</th>\n",
              "      <th>exng</th>\n",
              "      <th>oldpeak</th>\n",
              "      <th>slp</th>\n",
              "      <th>caa</th>\n",
              "      <th>thall</th>\n",
              "      <th>output</th>\n",
              "    </tr>\n",
              "  </thead>\n",
              "  <tbody>\n",
              "    <tr>\n",
              "      <th>count</th>\n",
              "      <td>303.000000</td>\n",
              "      <td>303.000000</td>\n",
              "      <td>303.000000</td>\n",
              "      <td>303.000000</td>\n",
              "      <td>303.000000</td>\n",
              "      <td>303.000000</td>\n",
              "      <td>303.000000</td>\n",
              "      <td>303.000000</td>\n",
              "      <td>303.000000</td>\n",
              "      <td>303.000000</td>\n",
              "      <td>303.000000</td>\n",
              "      <td>303.000000</td>\n",
              "      <td>303.000000</td>\n",
              "      <td>303.000000</td>\n",
              "    </tr>\n",
              "    <tr>\n",
              "      <th>mean</th>\n",
              "      <td>54.366337</td>\n",
              "      <td>0.683168</td>\n",
              "      <td>0.966997</td>\n",
              "      <td>131.623762</td>\n",
              "      <td>246.264026</td>\n",
              "      <td>0.148515</td>\n",
              "      <td>0.528053</td>\n",
              "      <td>149.646865</td>\n",
              "      <td>0.326733</td>\n",
              "      <td>1.039604</td>\n",
              "      <td>1.399340</td>\n",
              "      <td>0.729373</td>\n",
              "      <td>2.313531</td>\n",
              "      <td>0.544554</td>\n",
              "    </tr>\n",
              "    <tr>\n",
              "      <th>std</th>\n",
              "      <td>9.082101</td>\n",
              "      <td>0.466011</td>\n",
              "      <td>1.032052</td>\n",
              "      <td>17.538143</td>\n",
              "      <td>51.830751</td>\n",
              "      <td>0.356198</td>\n",
              "      <td>0.525860</td>\n",
              "      <td>22.905161</td>\n",
              "      <td>0.469794</td>\n",
              "      <td>1.161075</td>\n",
              "      <td>0.616226</td>\n",
              "      <td>1.022606</td>\n",
              "      <td>0.612277</td>\n",
              "      <td>0.498835</td>\n",
              "    </tr>\n",
              "    <tr>\n",
              "      <th>min</th>\n",
              "      <td>29.000000</td>\n",
              "      <td>0.000000</td>\n",
              "      <td>0.000000</td>\n",
              "      <td>94.000000</td>\n",
              "      <td>126.000000</td>\n",
              "      <td>0.000000</td>\n",
              "      <td>0.000000</td>\n",
              "      <td>71.000000</td>\n",
              "      <td>0.000000</td>\n",
              "      <td>0.000000</td>\n",
              "      <td>0.000000</td>\n",
              "      <td>0.000000</td>\n",
              "      <td>0.000000</td>\n",
              "      <td>0.000000</td>\n",
              "    </tr>\n",
              "    <tr>\n",
              "      <th>25%</th>\n",
              "      <td>47.500000</td>\n",
              "      <td>0.000000</td>\n",
              "      <td>0.000000</td>\n",
              "      <td>120.000000</td>\n",
              "      <td>211.000000</td>\n",
              "      <td>0.000000</td>\n",
              "      <td>0.000000</td>\n",
              "      <td>133.500000</td>\n",
              "      <td>0.000000</td>\n",
              "      <td>0.000000</td>\n",
              "      <td>1.000000</td>\n",
              "      <td>0.000000</td>\n",
              "      <td>2.000000</td>\n",
              "      <td>0.000000</td>\n",
              "    </tr>\n",
              "    <tr>\n",
              "      <th>50%</th>\n",
              "      <td>55.000000</td>\n",
              "      <td>1.000000</td>\n",
              "      <td>1.000000</td>\n",
              "      <td>130.000000</td>\n",
              "      <td>240.000000</td>\n",
              "      <td>0.000000</td>\n",
              "      <td>1.000000</td>\n",
              "      <td>153.000000</td>\n",
              "      <td>0.000000</td>\n",
              "      <td>0.800000</td>\n",
              "      <td>1.000000</td>\n",
              "      <td>0.000000</td>\n",
              "      <td>2.000000</td>\n",
              "      <td>1.000000</td>\n",
              "    </tr>\n",
              "    <tr>\n",
              "      <th>75%</th>\n",
              "      <td>61.000000</td>\n",
              "      <td>1.000000</td>\n",
              "      <td>2.000000</td>\n",
              "      <td>140.000000</td>\n",
              "      <td>274.500000</td>\n",
              "      <td>0.000000</td>\n",
              "      <td>1.000000</td>\n",
              "      <td>166.000000</td>\n",
              "      <td>1.000000</td>\n",
              "      <td>1.600000</td>\n",
              "      <td>2.000000</td>\n",
              "      <td>1.000000</td>\n",
              "      <td>3.000000</td>\n",
              "      <td>1.000000</td>\n",
              "    </tr>\n",
              "    <tr>\n",
              "      <th>max</th>\n",
              "      <td>77.000000</td>\n",
              "      <td>1.000000</td>\n",
              "      <td>3.000000</td>\n",
              "      <td>200.000000</td>\n",
              "      <td>564.000000</td>\n",
              "      <td>1.000000</td>\n",
              "      <td>2.000000</td>\n",
              "      <td>202.000000</td>\n",
              "      <td>1.000000</td>\n",
              "      <td>6.200000</td>\n",
              "      <td>2.000000</td>\n",
              "      <td>4.000000</td>\n",
              "      <td>3.000000</td>\n",
              "      <td>1.000000</td>\n",
              "    </tr>\n",
              "  </tbody>\n",
              "</table>\n",
              "</div>"
            ],
            "text/plain": [
              "              age         sex          cp  ...         caa       thall      output\n",
              "count  303.000000  303.000000  303.000000  ...  303.000000  303.000000  303.000000\n",
              "mean    54.366337    0.683168    0.966997  ...    0.729373    2.313531    0.544554\n",
              "std      9.082101    0.466011    1.032052  ...    1.022606    0.612277    0.498835\n",
              "min     29.000000    0.000000    0.000000  ...    0.000000    0.000000    0.000000\n",
              "25%     47.500000    0.000000    0.000000  ...    0.000000    2.000000    0.000000\n",
              "50%     55.000000    1.000000    1.000000  ...    0.000000    2.000000    1.000000\n",
              "75%     61.000000    1.000000    2.000000  ...    1.000000    3.000000    1.000000\n",
              "max     77.000000    1.000000    3.000000  ...    4.000000    3.000000    1.000000\n",
              "\n",
              "[8 rows x 14 columns]"
            ]
          },
          "metadata": {},
          "execution_count": 11
        }
      ]
    },
    {
      "cell_type": "code",
      "metadata": {
        "colab": {
          "base_uri": "https://localhost:8080/",
          "height": 336
        },
        "id": "qygDsCTItSIh",
        "outputId": "cc5f67e4-bb91-4282-8c29-bf9bf18ce234"
      },
      "source": [
        "sns.distplot(x=df['age'],kde=False,bins=20)"
      ],
      "execution_count": 16,
      "outputs": [
        {
          "output_type": "stream",
          "name": "stderr",
          "text": [
            "/usr/local/lib/python3.7/dist-packages/seaborn/distributions.py:2619: FutureWarning: `distplot` is a deprecated function and will be removed in a future version. Please adapt your code to use either `displot` (a figure-level function with similar flexibility) or `histplot` (an axes-level function for histograms).\n",
            "  warnings.warn(msg, FutureWarning)\n"
          ]
        },
        {
          "output_type": "execute_result",
          "data": {
            "text/plain": [
              "<matplotlib.axes._subplots.AxesSubplot at 0x7fe86c8d82d0>"
            ]
          },
          "metadata": {},
          "execution_count": 16
        },
        {
          "output_type": "display_data",
          "data": {
            "image/png": "[encoded data removed]",
            "text/plain": [
              "<Figure size 432x288 with 1 Axes>"
            ]
          },
          "metadata": {
            "needs_background": "light"
          }
        }
      ]
    },
    {
      "cell_type": "code",
      "metadata": {
        "id": "hyYkXK-IhnOn"
      },
      "source": [
        "from sklearn.preprocessing import StandardScaler"
      ],
      "execution_count": 17,
      "outputs": []
    },
    {
      "cell_type": "code",
      "metadata": {
        "id": "EjUBT3U7iIbG"
      },
      "source": [
        "sc = StandardScaler()"
      ],
      "execution_count": 18,
      "outputs": []
    },
    {
      "cell_type": "code",
      "metadata": {
        "id": "0fVVNm3TiPGW"
      },
      "source": [
        "\n",
        "X = df.drop('output',axis=1)\n",
        "y = df['output']\n"
      ],
      "execution_count": 19,
      "outputs": []
    },
    {
      "cell_type": "code",
      "metadata": {
        "id": "MNPqW1DEicDF"
      },
      "source": [
        "from sklearn.model_selection import train_test_split\n"
      ],
      "execution_count": 20,
      "outputs": []
    },
    {
      "cell_type": "code",
      "metadata": {
        "id": "6OFLvEVGihoe"
      },
      "source": [
        "X_train, X_test, y_train, y_test = train_test_split(X, y, test_size=0.20, random_state=100)"
      ],
      "execution_count": 30,
      "outputs": []
    },
    {
      "cell_type": "code",
      "metadata": {
        "id": "MMAIjSqFjWv6"
      },
      "source": [
        "X_train_sc = sc.fit_transform(X_train)\n",
        "X_test_sc = sc.transform(X_test)"
      ],
      "execution_count": 31,
      "outputs": []
    },
    {
      "cell_type": "code",
      "metadata": {
        "id": "w-_ysGjtjY_-"
      },
      "source": [
        "from keras.models import Sequential\n",
        "from keras.layers import  Dense , Dropout"
      ],
      "execution_count": 32,
      "outputs": []
    },
    {
      "cell_type": "code",
      "metadata": {
        "id": "8hNoCcIvj1Nm"
      },
      "source": [
        "model = Sequential()\n"
      ],
      "execution_count": 33,
      "outputs": []
    },
    {
      "cell_type": "code",
      "metadata": {
        "id": "xQJ9yQUxlNMW"
      },
      "source": [
        "model.add(Dense(32,activation='relu',input_shape=(13,)))\n",
        "model.add(Dropout(0.2))\n",
        "model.add(Dense(64,activation='relu'))\n",
        "model.add(Dropout(0.2))\n",
        "model.add(Dense(128,activation='relu'))\n",
        "model.add(Dropout(0.2))\n",
        "model.add(Dense(64,activation='relu'))\n",
        "model.add(Dense(1,activation='sigmoid'))\n",
        "model.compile(optimizer='adam',loss='binary_crossentropy',metrics=['accuracy'])\n",
        "\n"
      ],
      "execution_count": 34,
      "outputs": []
    },
    {
      "cell_type": "code",
      "metadata": {
        "colab": {
          "base_uri": "https://localhost:8080/"
        },
        "id": "Qt8IcxuAls1y",
        "outputId": "867f0ee2-9422-4957-fd2d-3ee6fcc5fa09"
      },
      "source": [
        "model.fit(X_train_sc, y_train, batch_size=80 , epochs=200,validation_data=(X_test_sc,y_test))"
      ],
      "execution_count": 35,
      "outputs": [
        {
          "output_type": "stream",
          "name": "stdout",
          "text": [
            "Epoch 1/200\n",
            "4/4 [==============================] - 1s 141ms/step - loss: 0.7014 - accuracy: 0.5455 - val_loss: 0.6219 - val_accuracy: 0.7541\n",
            "Epoch 2/200\n",
            "4/4 [==============================] - 0s 13ms/step - loss: 0.6427 - accuracy: 0.6777 - val_loss: 0.5618 - val_accuracy: 0.7541\n",
            "Epoch 3/200\n",
            "4/4 [==============================] - 0s 11ms/step - loss: 0.5937 - accuracy: 0.7562 - val_loss: 0.5259 - val_accuracy: 0.7705\n",
            "Epoch 4/200\n",
            "4/4 [==============================] - 0s 11ms/step - loss: 0.5568 - accuracy: 0.7769 - val_loss: 0.4979 - val_accuracy: 0.7869\n",
            "Epoch 5/200\n",
            "4/4 [==============================] - 0s 11ms/step - loss: 0.5415 - accuracy: 0.7851 - val_loss: 0.4747 - val_accuracy: 0.7869\n",
            "Epoch 6/200\n",
            "4/4 [==============================] - 0s 13ms/step - loss: 0.4883 - accuracy: 0.8182 - val_loss: 0.4536 - val_accuracy: 0.7869\n",
            "Epoch 7/200\n",
            "4/4 [==============================] - 0s 14ms/step - loss: 0.4961 - accuracy: 0.8140 - val_loss: 0.4499 - val_accuracy: 0.7869\n",
            "Epoch 8/200\n",
            "4/4 [==============================] - 0s 11ms/step - loss: 0.4998 - accuracy: 0.7934 - val_loss: 0.4570 - val_accuracy: 0.7869\n",
            "Epoch 9/200\n",
            "4/4 [==============================] - 0s 11ms/step - loss: 0.4623 - accuracy: 0.8140 - val_loss: 0.4666 - val_accuracy: 0.7869\n",
            "Epoch 10/200\n",
            "4/4 [==============================] - 0s 11ms/step - loss: 0.4574 - accuracy: 0.7975 - val_loss: 0.4483 - val_accuracy: 0.7869\n",
            "Epoch 11/200\n",
            "4/4 [==============================] - 0s 11ms/step - loss: 0.4238 - accuracy: 0.8099 - val_loss: 0.4409 - val_accuracy: 0.7869\n",
            "Epoch 12/200\n",
            "4/4 [==============================] - 0s 14ms/step - loss: 0.4598 - accuracy: 0.7851 - val_loss: 0.4445 - val_accuracy: 0.7869\n",
            "Epoch 13/200\n",
            "4/4 [==============================] - 0s 12ms/step - loss: 0.4372 - accuracy: 0.8306 - val_loss: 0.4454 - val_accuracy: 0.7869\n",
            "Epoch 14/200\n",
            "4/4 [==============================] - 0s 11ms/step - loss: 0.4553 - accuracy: 0.8099 - val_loss: 0.4435 - val_accuracy: 0.7869\n",
            "Epoch 15/200\n",
            "4/4 [==============================] - 0s 13ms/step - loss: 0.4307 - accuracy: 0.8140 - val_loss: 0.4391 - val_accuracy: 0.7869\n",
            "Epoch 16/200\n",
            "4/4 [==============================] - 0s 13ms/step - loss: 0.4023 - accuracy: 0.8347 - val_loss: 0.4290 - val_accuracy: 0.7869\n",
            "Epoch 17/200\n",
            "4/4 [==============================] - 0s 19ms/step - loss: 0.4027 - accuracy: 0.8471 - val_loss: 0.4214 - val_accuracy: 0.7869\n",
            "Epoch 18/200\n",
            "4/4 [==============================] - 0s 11ms/step - loss: 0.4153 - accuracy: 0.8264 - val_loss: 0.4162 - val_accuracy: 0.7869\n",
            "Epoch 19/200\n",
            "4/4 [==============================] - 0s 11ms/step - loss: 0.4087 - accuracy: 0.8430 - val_loss: 0.4154 - val_accuracy: 0.7869\n",
            "Epoch 20/200\n",
            "4/4 [==============================] - 0s 15ms/step - loss: 0.4147 - accuracy: 0.8140 - val_loss: 0.4179 - val_accuracy: 0.7869\n",
            "Epoch 21/200\n",
            "4/4 [==============================] - 0s 12ms/step - loss: 0.4118 - accuracy: 0.8306 - val_loss: 0.4111 - val_accuracy: 0.7869\n",
            "Epoch 22/200\n",
            "4/4 [==============================] - 0s 14ms/step - loss: 0.3691 - accuracy: 0.8471 - val_loss: 0.3971 - val_accuracy: 0.7705\n",
            "Epoch 23/200\n",
            "4/4 [==============================] - 0s 12ms/step - loss: 0.3872 - accuracy: 0.8430 - val_loss: 0.3933 - val_accuracy: 0.7705\n",
            "Epoch 24/200\n",
            "4/4 [==============================] - 0s 15ms/step - loss: 0.3903 - accuracy: 0.8306 - val_loss: 0.3933 - val_accuracy: 0.7869\n",
            "Epoch 25/200\n",
            "4/4 [==============================] - 0s 12ms/step - loss: 0.3748 - accuracy: 0.8471 - val_loss: 0.3948 - val_accuracy: 0.7869\n",
            "Epoch 26/200\n",
            "4/4 [==============================] - 0s 13ms/step - loss: 0.3783 - accuracy: 0.8430 - val_loss: 0.4029 - val_accuracy: 0.7705\n",
            "Epoch 27/200\n",
            "4/4 [==============================] - 0s 13ms/step - loss: 0.3903 - accuracy: 0.8512 - val_loss: 0.4127 - val_accuracy: 0.7705\n",
            "Epoch 28/200\n",
            "4/4 [==============================] - 0s 13ms/step - loss: 0.3760 - accuracy: 0.8306 - val_loss: 0.4127 - val_accuracy: 0.7705\n",
            "Epoch 29/200\n",
            "4/4 [==============================] - 0s 12ms/step - loss: 0.3972 - accuracy: 0.8430 - val_loss: 0.4057 - val_accuracy: 0.7705\n",
            "Epoch 30/200\n",
            "4/4 [==============================] - 0s 12ms/step - loss: 0.3665 - accuracy: 0.8471 - val_loss: 0.3988 - val_accuracy: 0.7705\n",
            "Epoch 31/200\n",
            "4/4 [==============================] - 0s 12ms/step - loss: 0.3756 - accuracy: 0.8347 - val_loss: 0.4050 - val_accuracy: 0.7705\n",
            "Epoch 32/200\n",
            "4/4 [==============================] - 0s 14ms/step - loss: 0.3534 - accuracy: 0.8554 - val_loss: 0.4115 - val_accuracy: 0.7705\n",
            "Epoch 33/200\n",
            "4/4 [==============================] - 0s 13ms/step - loss: 0.4000 - accuracy: 0.8223 - val_loss: 0.4140 - val_accuracy: 0.7705\n",
            "Epoch 34/200\n",
            "4/4 [==============================] - 0s 14ms/step - loss: 0.3679 - accuracy: 0.8264 - val_loss: 0.4284 - val_accuracy: 0.7869\n",
            "Epoch 35/200\n",
            "4/4 [==============================] - 0s 12ms/step - loss: 0.3985 - accuracy: 0.8430 - val_loss: 0.4465 - val_accuracy: 0.7705\n",
            "Epoch 36/200\n",
            "4/4 [==============================] - 0s 14ms/step - loss: 0.3538 - accuracy: 0.8264 - val_loss: 0.4495 - val_accuracy: 0.8033\n",
            "Epoch 37/200\n",
            "4/4 [==============================] - 0s 12ms/step - loss: 0.3696 - accuracy: 0.8347 - val_loss: 0.4446 - val_accuracy: 0.8033\n",
            "Epoch 38/200\n",
            "4/4 [==============================] - 0s 11ms/step - loss: 0.3933 - accuracy: 0.8388 - val_loss: 0.4193 - val_accuracy: 0.8033\n",
            "Epoch 39/200\n",
            "4/4 [==============================] - 0s 13ms/step - loss: 0.3957 - accuracy: 0.8388 - val_loss: 0.3999 - val_accuracy: 0.8033\n",
            "Epoch 40/200\n",
            "4/4 [==============================] - 0s 14ms/step - loss: 0.3527 - accuracy: 0.8388 - val_loss: 0.3876 - val_accuracy: 0.7869\n",
            "Epoch 41/200\n",
            "4/4 [==============================] - 0s 18ms/step - loss: 0.3633 - accuracy: 0.8430 - val_loss: 0.3829 - val_accuracy: 0.7869\n",
            "Epoch 42/200\n",
            "4/4 [==============================] - 0s 11ms/step - loss: 0.3629 - accuracy: 0.8388 - val_loss: 0.3822 - val_accuracy: 0.7869\n",
            "Epoch 43/200\n",
            "4/4 [==============================] - 0s 12ms/step - loss: 0.3631 - accuracy: 0.8264 - val_loss: 0.3857 - val_accuracy: 0.7869\n",
            "Epoch 44/200\n",
            "4/4 [==============================] - 0s 14ms/step - loss: 0.3537 - accuracy: 0.8471 - val_loss: 0.3984 - val_accuracy: 0.8197\n",
            "Epoch 45/200\n",
            "4/4 [==============================] - 0s 15ms/step - loss: 0.3732 - accuracy: 0.8388 - val_loss: 0.4074 - val_accuracy: 0.8033\n",
            "Epoch 46/200\n",
            "4/4 [==============================] - 0s 14ms/step - loss: 0.3688 - accuracy: 0.8306 - val_loss: 0.4002 - val_accuracy: 0.8197\n",
            "Epoch 47/200\n",
            "4/4 [==============================] - 0s 13ms/step - loss: 0.3337 - accuracy: 0.8512 - val_loss: 0.3845 - val_accuracy: 0.8033\n",
            "Epoch 48/200\n",
            "4/4 [==============================] - 0s 12ms/step - loss: 0.3277 - accuracy: 0.8471 - val_loss: 0.3725 - val_accuracy: 0.8197\n",
            "Epoch 49/200\n",
            "4/4 [==============================] - 0s 12ms/step - loss: 0.3714 - accuracy: 0.8471 - val_loss: 0.3666 - val_accuracy: 0.8197\n",
            "Epoch 50/200\n",
            "4/4 [==============================] - 0s 14ms/step - loss: 0.3793 - accuracy: 0.8512 - val_loss: 0.3631 - val_accuracy: 0.8033\n",
            "Epoch 51/200\n",
            "4/4 [==============================] - 0s 12ms/step - loss: 0.3518 - accuracy: 0.8347 - val_loss: 0.3622 - val_accuracy: 0.8033\n",
            "Epoch 52/200\n",
            "4/4 [==============================] - 0s 14ms/step - loss: 0.3102 - accuracy: 0.8760 - val_loss: 0.3629 - val_accuracy: 0.8033\n",
            "Epoch 53/200\n",
            "4/4 [==============================] - 0s 13ms/step - loss: 0.3393 - accuracy: 0.8636 - val_loss: 0.3646 - val_accuracy: 0.7869\n",
            "Epoch 54/200\n",
            "4/4 [==============================] - 0s 12ms/step - loss: 0.3412 - accuracy: 0.8388 - val_loss: 0.3740 - val_accuracy: 0.8033\n",
            "Epoch 55/200\n",
            "4/4 [==============================] - 0s 14ms/step - loss: 0.3573 - accuracy: 0.8430 - val_loss: 0.3827 - val_accuracy: 0.8197\n",
            "Epoch 56/200\n",
            "4/4 [==============================] - 0s 12ms/step - loss: 0.3710 - accuracy: 0.8719 - val_loss: 0.3851 - val_accuracy: 0.8197\n",
            "Epoch 57/200\n",
            "4/4 [==============================] - 0s 13ms/step - loss: 0.3590 - accuracy: 0.8388 - val_loss: 0.3851 - val_accuracy: 0.8361\n",
            "Epoch 58/200\n",
            "4/4 [==============================] - 0s 12ms/step - loss: 0.3413 - accuracy: 0.8554 - val_loss: 0.3737 - val_accuracy: 0.8361\n",
            "Epoch 59/200\n",
            "4/4 [==============================] - 0s 13ms/step - loss: 0.3392 - accuracy: 0.8595 - val_loss: 0.3621 - val_accuracy: 0.8197\n",
            "Epoch 60/200\n",
            "4/4 [==============================] - 0s 14ms/step - loss: 0.3222 - accuracy: 0.8388 - val_loss: 0.3494 - val_accuracy: 0.8197\n",
            "Epoch 61/200\n",
            "4/4 [==============================] - 0s 14ms/step - loss: 0.3326 - accuracy: 0.8595 - val_loss: 0.3453 - val_accuracy: 0.8361\n",
            "Epoch 62/200\n",
            "4/4 [==============================] - 0s 19ms/step - loss: 0.3537 - accuracy: 0.8430 - val_loss: 0.3436 - val_accuracy: 0.8361\n",
            "Epoch 63/200\n",
            "4/4 [==============================] - 0s 14ms/step - loss: 0.3336 - accuracy: 0.8430 - val_loss: 0.3475 - val_accuracy: 0.8525\n",
            "Epoch 64/200\n",
            "4/4 [==============================] - 0s 20ms/step - loss: 0.3654 - accuracy: 0.8471 - val_loss: 0.3559 - val_accuracy: 0.8525\n",
            "Epoch 65/200\n",
            "4/4 [==============================] - 0s 13ms/step - loss: 0.3232 - accuracy: 0.8554 - val_loss: 0.3614 - val_accuracy: 0.8525\n",
            "Epoch 66/200\n",
            "4/4 [==============================] - 0s 18ms/step - loss: 0.3226 - accuracy: 0.8719 - val_loss: 0.3648 - val_accuracy: 0.8525\n",
            "Epoch 67/200\n",
            "4/4 [==============================] - 0s 12ms/step - loss: 0.3754 - accuracy: 0.8223 - val_loss: 0.3651 - val_accuracy: 0.8361\n",
            "Epoch 68/200\n",
            "4/4 [==============================] - 0s 12ms/step - loss: 0.3176 - accuracy: 0.8554 - val_loss: 0.3714 - val_accuracy: 0.8197\n",
            "Epoch 69/200\n",
            "4/4 [==============================] - 0s 11ms/step - loss: 0.3419 - accuracy: 0.8554 - val_loss: 0.3814 - val_accuracy: 0.8361\n",
            "Epoch 70/200\n",
            "4/4 [==============================] - 0s 12ms/step - loss: 0.3464 - accuracy: 0.8388 - val_loss: 0.3795 - val_accuracy: 0.8197\n",
            "Epoch 71/200\n",
            "4/4 [==============================] - 0s 13ms/step - loss: 0.3424 - accuracy: 0.8554 - val_loss: 0.3629 - val_accuracy: 0.8361\n",
            "Epoch 72/200\n",
            "4/4 [==============================] - 0s 14ms/step - loss: 0.3242 - accuracy: 0.8554 - val_loss: 0.3414 - val_accuracy: 0.8361\n",
            "Epoch 73/200\n",
            "4/4 [==============================] - 0s 16ms/step - loss: 0.2985 - accuracy: 0.8760 - val_loss: 0.3239 - val_accuracy: 0.8525\n",
            "Epoch 74/200\n",
            "4/4 [==============================] - 0s 13ms/step - loss: 0.3574 - accuracy: 0.8512 - val_loss: 0.3172 - val_accuracy: 0.8689\n",
            "Epoch 75/200\n",
            "4/4 [==============================] - 0s 12ms/step - loss: 0.3453 - accuracy: 0.8554 - val_loss: 0.3170 - val_accuracy: 0.8689\n",
            "Epoch 76/200\n",
            "4/4 [==============================] - 0s 12ms/step - loss: 0.3223 - accuracy: 0.8760 - val_loss: 0.3142 - val_accuracy: 0.8525\n",
            "Epoch 77/200\n",
            "4/4 [==============================] - 0s 17ms/step - loss: 0.3132 - accuracy: 0.8636 - val_loss: 0.3164 - val_accuracy: 0.8525\n",
            "Epoch 78/200\n",
            "4/4 [==============================] - 0s 11ms/step - loss: 0.3250 - accuracy: 0.8595 - val_loss: 0.3275 - val_accuracy: 0.8689\n",
            "Epoch 79/200\n",
            "4/4 [==============================] - 0s 12ms/step - loss: 0.2859 - accuracy: 0.8678 - val_loss: 0.3397 - val_accuracy: 0.8525\n",
            "Epoch 80/200\n",
            "4/4 [==============================] - 0s 13ms/step - loss: 0.3342 - accuracy: 0.8636 - val_loss: 0.3423 - val_accuracy: 0.8525\n",
            "Epoch 81/200\n",
            "4/4 [==============================] - 0s 12ms/step - loss: 0.3339 - accuracy: 0.8471 - val_loss: 0.3379 - val_accuracy: 0.8525\n",
            "Epoch 82/200\n",
            "4/4 [==============================] - 0s 14ms/step - loss: 0.3464 - accuracy: 0.8430 - val_loss: 0.3305 - val_accuracy: 0.8689\n",
            "Epoch 83/200\n",
            "4/4 [==============================] - 0s 18ms/step - loss: 0.3075 - accuracy: 0.8595 - val_loss: 0.3287 - val_accuracy: 0.8525\n",
            "Epoch 84/200\n",
            "4/4 [==============================] - 0s 11ms/step - loss: 0.3190 - accuracy: 0.8554 - val_loss: 0.3252 - val_accuracy: 0.8525\n",
            "Epoch 85/200\n",
            "4/4 [==============================] - 0s 12ms/step - loss: 0.2933 - accuracy: 0.8802 - val_loss: 0.3232 - val_accuracy: 0.8689\n",
            "Epoch 86/200\n",
            "4/4 [==============================] - 0s 18ms/step - loss: 0.3175 - accuracy: 0.8471 - val_loss: 0.3242 - val_accuracy: 0.8525\n",
            "Epoch 87/200\n",
            "4/4 [==============================] - 0s 12ms/step - loss: 0.3138 - accuracy: 0.8636 - val_loss: 0.3314 - val_accuracy: 0.8525\n",
            "Epoch 88/200\n",
            "4/4 [==============================] - 0s 12ms/step - loss: 0.3307 - accuracy: 0.8388 - val_loss: 0.3418 - val_accuracy: 0.8361\n",
            "Epoch 89/200\n",
            "4/4 [==============================] - 0s 12ms/step - loss: 0.3295 - accuracy: 0.8678 - val_loss: 0.3424 - val_accuracy: 0.8361\n",
            "Epoch 90/200\n",
            "4/4 [==============================] - 0s 13ms/step - loss: 0.3105 - accuracy: 0.8471 - val_loss: 0.3432 - val_accuracy: 0.8361\n",
            "Epoch 91/200\n",
            "4/4 [==============================] - 0s 13ms/step - loss: 0.3158 - accuracy: 0.8595 - val_loss: 0.3383 - val_accuracy: 0.8361\n",
            "Epoch 92/200\n",
            "4/4 [==============================] - 0s 15ms/step - loss: 0.3106 - accuracy: 0.8678 - val_loss: 0.3287 - val_accuracy: 0.8361\n",
            "Epoch 93/200\n",
            "4/4 [==============================] - 0s 13ms/step - loss: 0.2913 - accuracy: 0.8719 - val_loss: 0.3253 - val_accuracy: 0.8525\n",
            "Epoch 94/200\n",
            "4/4 [==============================] - 0s 13ms/step - loss: 0.3019 - accuracy: 0.8843 - val_loss: 0.3274 - val_accuracy: 0.8525\n",
            "Epoch 95/200\n",
            "4/4 [==============================] - 0s 12ms/step - loss: 0.2936 - accuracy: 0.8843 - val_loss: 0.3304 - val_accuracy: 0.8525\n",
            "Epoch 96/200\n",
            "4/4 [==============================] - 0s 11ms/step - loss: 0.2791 - accuracy: 0.8802 - val_loss: 0.3342 - val_accuracy: 0.8361\n",
            "Epoch 97/200\n",
            "4/4 [==============================] - 0s 13ms/step - loss: 0.3050 - accuracy: 0.8636 - val_loss: 0.3363 - val_accuracy: 0.8525\n",
            "Epoch 98/200\n",
            "4/4 [==============================] - 0s 11ms/step - loss: 0.2874 - accuracy: 0.8512 - val_loss: 0.3358 - val_accuracy: 0.8525\n",
            "Epoch 99/200\n",
            "4/4 [==============================] - 0s 14ms/step - loss: 0.2818 - accuracy: 0.8719 - val_loss: 0.3289 - val_accuracy: 0.8525\n",
            "Epoch 100/200\n",
            "4/4 [==============================] - 0s 18ms/step - loss: 0.2942 - accuracy: 0.8926 - val_loss: 0.3261 - val_accuracy: 0.8525\n",
            "Epoch 101/200\n",
            "4/4 [==============================] - 0s 14ms/step - loss: 0.3104 - accuracy: 0.8719 - val_loss: 0.3242 - val_accuracy: 0.8525\n",
            "Epoch 102/200\n",
            "4/4 [==============================] - 0s 15ms/step - loss: 0.3063 - accuracy: 0.8595 - val_loss: 0.3262 - val_accuracy: 0.8525\n",
            "Epoch 103/200\n",
            "4/4 [==============================] - 0s 13ms/step - loss: 0.3001 - accuracy: 0.8802 - val_loss: 0.3280 - val_accuracy: 0.8525\n",
            "Epoch 104/200\n",
            "4/4 [==============================] - 0s 12ms/step - loss: 0.2904 - accuracy: 0.8719 - val_loss: 0.3276 - val_accuracy: 0.8525\n",
            "Epoch 105/200\n",
            "4/4 [==============================] - 0s 11ms/step - loss: 0.2854 - accuracy: 0.8760 - val_loss: 0.3280 - val_accuracy: 0.8525\n",
            "Epoch 106/200\n",
            "4/4 [==============================] - 0s 15ms/step - loss: 0.3061 - accuracy: 0.8471 - val_loss: 0.3315 - val_accuracy: 0.8689\n",
            "Epoch 107/200\n",
            "4/4 [==============================] - 0s 18ms/step - loss: 0.2743 - accuracy: 0.8760 - val_loss: 0.3300 - val_accuracy: 0.8689\n",
            "Epoch 108/200\n",
            "4/4 [==============================] - 0s 18ms/step - loss: 0.3350 - accuracy: 0.8512 - val_loss: 0.3250 - val_accuracy: 0.8689\n",
            "Epoch 109/200\n",
            "4/4 [==============================] - 0s 11ms/step - loss: 0.3046 - accuracy: 0.8471 - val_loss: 0.3261 - val_accuracy: 0.8689\n",
            "Epoch 110/200\n",
            "4/4 [==============================] - 0s 16ms/step - loss: 0.2649 - accuracy: 0.8884 - val_loss: 0.3313 - val_accuracy: 0.8525\n",
            "Epoch 111/200\n",
            "4/4 [==============================] - 0s 13ms/step - loss: 0.2822 - accuracy: 0.8719 - val_loss: 0.3380 - val_accuracy: 0.8525\n",
            "Epoch 112/200\n",
            "4/4 [==============================] - 0s 11ms/step - loss: 0.2881 - accuracy: 0.8595 - val_loss: 0.3490 - val_accuracy: 0.8197\n",
            "Epoch 113/200\n",
            "4/4 [==============================] - 0s 12ms/step - loss: 0.2978 - accuracy: 0.8719 - val_loss: 0.3616 - val_accuracy: 0.8197\n",
            "Epoch 114/200\n",
            "4/4 [==============================] - 0s 12ms/step - loss: 0.2746 - accuracy: 0.8719 - val_loss: 0.3652 - val_accuracy: 0.8197\n",
            "Epoch 115/200\n",
            "4/4 [==============================] - 0s 13ms/step - loss: 0.2921 - accuracy: 0.8636 - val_loss: 0.3553 - val_accuracy: 0.8361\n",
            "Epoch 116/200\n",
            "4/4 [==============================] - 0s 12ms/step - loss: 0.2795 - accuracy: 0.8760 - val_loss: 0.3412 - val_accuracy: 0.8525\n",
            "Epoch 117/200\n",
            "4/4 [==============================] - 0s 12ms/step - loss: 0.2661 - accuracy: 0.8884 - val_loss: 0.3371 - val_accuracy: 0.8525\n",
            "Epoch 118/200\n",
            "4/4 [==============================] - 0s 11ms/step - loss: 0.2569 - accuracy: 0.8843 - val_loss: 0.3349 - val_accuracy: 0.8525\n",
            "Epoch 119/200\n",
            "4/4 [==============================] - 0s 16ms/step - loss: 0.2974 - accuracy: 0.8843 - val_loss: 0.3335 - val_accuracy: 0.8525\n",
            "Epoch 120/200\n",
            "4/4 [==============================] - 0s 12ms/step - loss: 0.2542 - accuracy: 0.8678 - val_loss: 0.3279 - val_accuracy: 0.8852\n",
            "Epoch 121/200\n",
            "4/4 [==============================] - 0s 13ms/step - loss: 0.2440 - accuracy: 0.9132 - val_loss: 0.3304 - val_accuracy: 0.8689\n",
            "Epoch 122/200\n",
            "4/4 [==============================] - 0s 12ms/step - loss: 0.2549 - accuracy: 0.8926 - val_loss: 0.3447 - val_accuracy: 0.8361\n",
            "Epoch 123/200\n",
            "4/4 [==============================] - 0s 12ms/step - loss: 0.3098 - accuracy: 0.8678 - val_loss: 0.3653 - val_accuracy: 0.8197\n",
            "Epoch 124/200\n",
            "4/4 [==============================] - 0s 17ms/step - loss: 0.2349 - accuracy: 0.8926 - val_loss: 0.3537 - val_accuracy: 0.8197\n",
            "Epoch 125/200\n",
            "4/4 [==============================] - 0s 12ms/step - loss: 0.2863 - accuracy: 0.8926 - val_loss: 0.3263 - val_accuracy: 0.8689\n",
            "Epoch 126/200\n",
            "4/4 [==============================] - 0s 12ms/step - loss: 0.2817 - accuracy: 0.8802 - val_loss: 0.3163 - val_accuracy: 0.8525\n",
            "Epoch 127/200\n",
            "4/4 [==============================] - 0s 12ms/step - loss: 0.2920 - accuracy: 0.8719 - val_loss: 0.3115 - val_accuracy: 0.8689\n",
            "Epoch 128/200\n",
            "4/4 [==============================] - 0s 12ms/step - loss: 0.2943 - accuracy: 0.8636 - val_loss: 0.3109 - val_accuracy: 0.8525\n",
            "Epoch 129/200\n",
            "4/4 [==============================] - 0s 15ms/step - loss: 0.2800 - accuracy: 0.8760 - val_loss: 0.3137 - val_accuracy: 0.8689\n",
            "Epoch 130/200\n",
            "4/4 [==============================] - 0s 12ms/step - loss: 0.2393 - accuracy: 0.9050 - val_loss: 0.3175 - val_accuracy: 0.8689\n",
            "Epoch 131/200\n",
            "4/4 [==============================] - 0s 11ms/step - loss: 0.2442 - accuracy: 0.8884 - val_loss: 0.3225 - val_accuracy: 0.8689\n",
            "Epoch 132/200\n",
            "4/4 [==============================] - 0s 11ms/step - loss: 0.2490 - accuracy: 0.8884 - val_loss: 0.3286 - val_accuracy: 0.8689\n",
            "Epoch 133/200\n",
            "4/4 [==============================] - 0s 13ms/step - loss: 0.2420 - accuracy: 0.8926 - val_loss: 0.3360 - val_accuracy: 0.8525\n",
            "Epoch 134/200\n",
            "4/4 [==============================] - 0s 12ms/step - loss: 0.2821 - accuracy: 0.8884 - val_loss: 0.3400 - val_accuracy: 0.8525\n",
            "Epoch 135/200\n",
            "4/4 [==============================] - 0s 13ms/step - loss: 0.2447 - accuracy: 0.9091 - val_loss: 0.3448 - val_accuracy: 0.8525\n",
            "Epoch 136/200\n",
            "4/4 [==============================] - 0s 12ms/step - loss: 0.2581 - accuracy: 0.8967 - val_loss: 0.3528 - val_accuracy: 0.8525\n",
            "Epoch 137/200\n",
            "4/4 [==============================] - 0s 11ms/step - loss: 0.2675 - accuracy: 0.8884 - val_loss: 0.3583 - val_accuracy: 0.8361\n",
            "Epoch 138/200\n",
            "4/4 [==============================] - 0s 12ms/step - loss: 0.2465 - accuracy: 0.9050 - val_loss: 0.3561 - val_accuracy: 0.8525\n",
            "Epoch 139/200\n",
            "4/4 [==============================] - 0s 11ms/step - loss: 0.2642 - accuracy: 0.8636 - val_loss: 0.3525 - val_accuracy: 0.8525\n",
            "Epoch 140/200\n",
            "4/4 [==============================] - 0s 14ms/step - loss: 0.2909 - accuracy: 0.8843 - val_loss: 0.3522 - val_accuracy: 0.8525\n",
            "Epoch 141/200\n",
            "4/4 [==============================] - 0s 13ms/step - loss: 0.2674 - accuracy: 0.8884 - val_loss: 0.3502 - val_accuracy: 0.8525\n",
            "Epoch 142/200\n",
            "4/4 [==============================] - 0s 12ms/step - loss: 0.2404 - accuracy: 0.9091 - val_loss: 0.3482 - val_accuracy: 0.8689\n",
            "Epoch 143/200\n",
            "4/4 [==============================] - 0s 12ms/step - loss: 0.2218 - accuracy: 0.9174 - val_loss: 0.3508 - val_accuracy: 0.8689\n",
            "Epoch 144/200\n",
            "4/4 [==============================] - 0s 15ms/step - loss: 0.2266 - accuracy: 0.8967 - val_loss: 0.3577 - val_accuracy: 0.8525\n",
            "Epoch 145/200\n",
            "4/4 [==============================] - 0s 16ms/step - loss: 0.2236 - accuracy: 0.9174 - val_loss: 0.3700 - val_accuracy: 0.8361\n",
            "Epoch 146/200\n",
            "4/4 [==============================] - 0s 13ms/step - loss: 0.2136 - accuracy: 0.9215 - val_loss: 0.3807 - val_accuracy: 0.8361\n",
            "Epoch 147/200\n",
            "4/4 [==============================] - 0s 11ms/step - loss: 0.2392 - accuracy: 0.9091 - val_loss: 0.3903 - val_accuracy: 0.8361\n",
            "Epoch 148/200\n",
            "4/4 [==============================] - 0s 12ms/step - loss: 0.2499 - accuracy: 0.8926 - val_loss: 0.4005 - val_accuracy: 0.8197\n",
            "Epoch 149/200\n",
            "4/4 [==============================] - 0s 12ms/step - loss: 0.2500 - accuracy: 0.9008 - val_loss: 0.3991 - val_accuracy: 0.8197\n",
            "Epoch 150/200\n",
            "4/4 [==============================] - 0s 12ms/step - loss: 0.2538 - accuracy: 0.8926 - val_loss: 0.3979 - val_accuracy: 0.8197\n",
            "Epoch 151/200\n",
            "4/4 [==============================] - 0s 12ms/step - loss: 0.2565 - accuracy: 0.8926 - val_loss: 0.4090 - val_accuracy: 0.8197\n",
            "Epoch 152/200\n",
            "4/4 [==============================] - 0s 13ms/step - loss: 0.2544 - accuracy: 0.8843 - val_loss: 0.4105 - val_accuracy: 0.8033\n",
            "Epoch 153/200\n",
            "4/4 [==============================] - 0s 12ms/step - loss: 0.2339 - accuracy: 0.9008 - val_loss: 0.4073 - val_accuracy: 0.8033\n",
            "Epoch 154/200\n",
            "4/4 [==============================] - 0s 17ms/step - loss: 0.2692 - accuracy: 0.8760 - val_loss: 0.3870 - val_accuracy: 0.8197\n",
            "Epoch 155/200\n",
            "4/4 [==============================] - 0s 11ms/step - loss: 0.2497 - accuracy: 0.8967 - val_loss: 0.3623 - val_accuracy: 0.8361\n",
            "Epoch 156/200\n",
            "4/4 [==============================] - 0s 13ms/step - loss: 0.2335 - accuracy: 0.8843 - val_loss: 0.3530 - val_accuracy: 0.8361\n",
            "Epoch 157/200\n",
            "4/4 [==============================] - 0s 13ms/step - loss: 0.2520 - accuracy: 0.9050 - val_loss: 0.3598 - val_accuracy: 0.8525\n",
            "Epoch 158/200\n",
            "4/4 [==============================] - 0s 13ms/step - loss: 0.2538 - accuracy: 0.9132 - val_loss: 0.3611 - val_accuracy: 0.8525\n",
            "Epoch 159/200\n",
            "4/4 [==============================] - 0s 12ms/step - loss: 0.2179 - accuracy: 0.9256 - val_loss: 0.3509 - val_accuracy: 0.8525\n",
            "Epoch 160/200\n",
            "4/4 [==============================] - 0s 11ms/step - loss: 0.2619 - accuracy: 0.8843 - val_loss: 0.3402 - val_accuracy: 0.8525\n",
            "Epoch 161/200\n",
            "4/4 [==============================] - 0s 12ms/step - loss: 0.2460 - accuracy: 0.8967 - val_loss: 0.3389 - val_accuracy: 0.8689\n",
            "Epoch 162/200\n",
            "4/4 [==============================] - 0s 14ms/step - loss: 0.2552 - accuracy: 0.8926 - val_loss: 0.3430 - val_accuracy: 0.8689\n",
            "Epoch 163/200\n",
            "4/4 [==============================] - 0s 12ms/step - loss: 0.2602 - accuracy: 0.8926 - val_loss: 0.3409 - val_accuracy: 0.8689\n",
            "Epoch 164/200\n",
            "4/4 [==============================] - 0s 12ms/step - loss: 0.2645 - accuracy: 0.9132 - val_loss: 0.3319 - val_accuracy: 0.8852\n",
            "Epoch 165/200\n",
            "4/4 [==============================] - 0s 13ms/step - loss: 0.2812 - accuracy: 0.8760 - val_loss: 0.3427 - val_accuracy: 0.8525\n",
            "Epoch 166/200\n",
            "4/4 [==============================] - 0s 19ms/step - loss: 0.2326 - accuracy: 0.9091 - val_loss: 0.3830 - val_accuracy: 0.8689\n",
            "Epoch 167/200\n",
            "4/4 [==============================] - 0s 17ms/step - loss: 0.2650 - accuracy: 0.8884 - val_loss: 0.4034 - val_accuracy: 0.8689\n",
            "Epoch 168/200\n",
            "4/4 [==============================] - 0s 19ms/step - loss: 0.2869 - accuracy: 0.9132 - val_loss: 0.3952 - val_accuracy: 0.8689\n",
            "Epoch 169/200\n",
            "4/4 [==============================] - 0s 13ms/step - loss: 0.2187 - accuracy: 0.9339 - val_loss: 0.3791 - val_accuracy: 0.8525\n",
            "Epoch 170/200\n",
            "4/4 [==============================] - 0s 11ms/step - loss: 0.2358 - accuracy: 0.9091 - val_loss: 0.3545 - val_accuracy: 0.8689\n",
            "Epoch 171/200\n",
            "4/4 [==============================] - 0s 15ms/step - loss: 0.2069 - accuracy: 0.9215 - val_loss: 0.3512 - val_accuracy: 0.8689\n",
            "Epoch 172/200\n",
            "4/4 [==============================] - 0s 13ms/step - loss: 0.2172 - accuracy: 0.9215 - val_loss: 0.3514 - val_accuracy: 0.8689\n",
            "Epoch 173/200\n",
            "4/4 [==============================] - 0s 12ms/step - loss: 0.2372 - accuracy: 0.9174 - val_loss: 0.3568 - val_accuracy: 0.8689\n",
            "Epoch 174/200\n",
            "4/4 [==============================] - 0s 12ms/step - loss: 0.2195 - accuracy: 0.9256 - val_loss: 0.3680 - val_accuracy: 0.8525\n",
            "Epoch 175/200\n",
            "4/4 [==============================] - 0s 15ms/step - loss: 0.2808 - accuracy: 0.9132 - val_loss: 0.3786 - val_accuracy: 0.8361\n",
            "Epoch 176/200\n",
            "4/4 [==============================] - 0s 14ms/step - loss: 0.2950 - accuracy: 0.8719 - val_loss: 0.3906 - val_accuracy: 0.8361\n",
            "Epoch 177/200\n",
            "4/4 [==============================] - 0s 13ms/step - loss: 0.2126 - accuracy: 0.9215 - val_loss: 0.4002 - val_accuracy: 0.8525\n",
            "Epoch 178/200\n",
            "4/4 [==============================] - 0s 14ms/step - loss: 0.2212 - accuracy: 0.9174 - val_loss: 0.3978 - val_accuracy: 0.8525\n",
            "Epoch 179/200\n",
            "4/4 [==============================] - 0s 12ms/step - loss: 0.2091 - accuracy: 0.9174 - val_loss: 0.3755 - val_accuracy: 0.8361\n",
            "Epoch 180/200\n",
            "4/4 [==============================] - 0s 14ms/step - loss: 0.2528 - accuracy: 0.9008 - val_loss: 0.3603 - val_accuracy: 0.8525\n",
            "Epoch 181/200\n",
            "4/4 [==============================] - 0s 20ms/step - loss: 0.2169 - accuracy: 0.9050 - val_loss: 0.3393 - val_accuracy: 0.8689\n",
            "Epoch 182/200\n",
            "4/4 [==============================] - 0s 13ms/step - loss: 0.2171 - accuracy: 0.9091 - val_loss: 0.3119 - val_accuracy: 0.8852\n",
            "Epoch 183/200\n",
            "4/4 [==============================] - 0s 13ms/step - loss: 0.2678 - accuracy: 0.8802 - val_loss: 0.3118 - val_accuracy: 0.8689\n",
            "Epoch 184/200\n",
            "4/4 [==============================] - 0s 14ms/step - loss: 0.2524 - accuracy: 0.8843 - val_loss: 0.3165 - val_accuracy: 0.8689\n",
            "Epoch 185/200\n",
            "4/4 [==============================] - 0s 14ms/step - loss: 0.2236 - accuracy: 0.9174 - val_loss: 0.3234 - val_accuracy: 0.8525\n",
            "Epoch 186/200\n",
            "4/4 [==============================] - 0s 15ms/step - loss: 0.2714 - accuracy: 0.8760 - val_loss: 0.3368 - val_accuracy: 0.8525\n",
            "Epoch 187/200\n",
            "4/4 [==============================] - 0s 14ms/step - loss: 0.2441 - accuracy: 0.9008 - val_loss: 0.3580 - val_accuracy: 0.8361\n",
            "Epoch 188/200\n",
            "4/4 [==============================] - 0s 13ms/step - loss: 0.2367 - accuracy: 0.9091 - val_loss: 0.3855 - val_accuracy: 0.8361\n",
            "Epoch 189/200\n",
            "4/4 [==============================] - 0s 12ms/step - loss: 0.2101 - accuracy: 0.9132 - val_loss: 0.4378 - val_accuracy: 0.8361\n",
            "Epoch 190/200\n",
            "4/4 [==============================] - 0s 18ms/step - loss: 0.2392 - accuracy: 0.8967 - val_loss: 0.4614 - val_accuracy: 0.8197\n",
            "Epoch 191/200\n",
            "4/4 [==============================] - 0s 13ms/step - loss: 0.2275 - accuracy: 0.9050 - val_loss: 0.4727 - val_accuracy: 0.8197\n",
            "Epoch 192/200\n",
            "4/4 [==============================] - 0s 13ms/step - loss: 0.2403 - accuracy: 0.8802 - val_loss: 0.4644 - val_accuracy: 0.8361\n",
            "Epoch 193/200\n",
            "4/4 [==============================] - 0s 12ms/step - loss: 0.2148 - accuracy: 0.9091 - val_loss: 0.4460 - val_accuracy: 0.8361\n",
            "Epoch 194/200\n",
            "4/4 [==============================] - 0s 12ms/step - loss: 0.2478 - accuracy: 0.9008 - val_loss: 0.4218 - val_accuracy: 0.8525\n",
            "Epoch 195/200\n",
            "4/4 [==============================] - 0s 13ms/step - loss: 0.1926 - accuracy: 0.9421 - val_loss: 0.3984 - val_accuracy: 0.8361\n",
            "Epoch 196/200\n",
            "4/4 [==============================] - 0s 12ms/step - loss: 0.2064 - accuracy: 0.9132 - val_loss: 0.3676 - val_accuracy: 0.8361\n",
            "Epoch 197/200\n",
            "4/4 [==============================] - 0s 14ms/step - loss: 0.1971 - accuracy: 0.9215 - val_loss: 0.3364 - val_accuracy: 0.8525\n",
            "Epoch 198/200\n",
            "4/4 [==============================] - 0s 12ms/step - loss: 0.2256 - accuracy: 0.9050 - val_loss: 0.3502 - val_accuracy: 0.8689\n",
            "Epoch 199/200\n",
            "4/4 [==============================] - 0s 12ms/step - loss: 0.2292 - accuracy: 0.9008 - val_loss: 0.3722 - val_accuracy: 0.8852\n",
            "Epoch 200/200\n",
            "4/4 [==============================] - 0s 14ms/step - loss: 0.1785 - accuracy: 0.9215 - val_loss: 0.3961 - val_accuracy: 0.8852\n"
          ]
        },
        {
          "output_type": "execute_result",
          "data": {
            "text/plain": [
              "<keras.callbacks.History at 0x7fe820103610>"
            ]
          },
          "metadata": {},
          "execution_count": 35
        }
      ]
    },
    {
      "cell_type": "code",
      "metadata": {
        "colab": {
          "base_uri": "https://localhost:8080/",
          "height": 279
        },
        "id": "ydba9nFCncgj",
        "outputId": "7ff19edb-066d-47dd-e000-d6c2dd977701"
      },
      "source": [
        "plt.plot(model.history.history['accuracy'],label='train')\n",
        "plt.plot(model.history.history['val_accuracy'],label='test')\n",
        "plt.legend()\n",
        "plt.xlabel('epochs')\n",
        "plt.ylabel('accuracy')\n",
        "plt.show()"
      ],
      "execution_count": 41,
      "outputs": [
        {
          "output_type": "display_data",
          "data": {
            "image/png": "[encoded data removed]",
            "text/plain": [
              "<Figure size 432x288 with 1 Axes>"
            ]
          },
          "metadata": {
            "needs_background": "light"
          }
        }
      ]
    },
    {
      "cell_type": "code",
      "metadata": {
        "colab": {
          "base_uri": "https://localhost:8080/"
        },
        "id": "2vlzAbQfnep1",
        "outputId": "e0f32281-3863-457d-c7bb-1aa8994b4a4c"
      },
      "source": [
        ""
      ],
      "execution_count": 39,
      "outputs": [
        {
          "output_type": "execute_result",
          "data": {
            "text/plain": [
              "(1599,)"
            ]
          },
          "metadata": {},
          "execution_count": 39
        }
      ]
    },
    {
      "cell_type": "code",
      "metadata": {
        "id": "KurNZKbgno1M"
      },
      "source": [
        ""
      ],
      "execution_count": null,
      "outputs": []
    },
    {
      "cell_type": "code",
      "metadata": {
        "id": "dFl-q3iPntrE"
      },
      "source": [
        ""
      ],
      "execution_count": null,
      "outputs": []
    },
    {
      "cell_type": "code",
      "metadata": {
        "id": "SFafgFEYnwuc"
      },
      "source": [
        ""
      ],
      "execution_count": null,
      "outputs": []
    }
  ]
}